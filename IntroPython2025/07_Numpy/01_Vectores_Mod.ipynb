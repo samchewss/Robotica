{
 "cells": [
  {
   "cell_type": "code",
   "execution_count": null,
   "metadata": {},
   "outputs": [],
   "source": []
  },
  {
   "cell_type": "code",
   "execution_count": 4,
   "metadata": {},
   "outputs": [],
   "source": [
    "x = [2, 4, 6]\n",
    "y = [3,5,6]"
   ]
  },
  {
   "cell_type": "markdown",
   "metadata": {},
   "source": [
    "# Genera la suma de esos dos vectores\n",
    "\n"
   ]
  },
  {
   "cell_type": "code",
   "execution_count": null,
   "metadata": {},
   "outputs": [],
   "source": []
  },
  {
   "cell_type": "code",
   "execution_count": null,
   "metadata": {},
   "outputs": [],
   "source": []
  },
  {
   "cell_type": "markdown",
   "metadata": {},
   "source": [
    "# Operaciones con vectores\n",
    "\n",
    "Cuando sumamos dos vectores, vamos sumando elemento por elemento de cada vector.\n",
    "\n",
    "\n",
    "$$ x+y =  \n",
    " \\begin{bmatrix}\n",
    "  x_1  \\\\\n",
    "  x_2  \\\\\n",
    "  \\vdots \\\\\n",
    "  x_n \n",
    " \\end{bmatrix} +\n",
    " \\begin{bmatrix}\n",
    "  y_1  \\\\\n",
    "  y_2  \\\\\n",
    "  \\vdots \\\\\n",
    "  y_n \n",
    " \\end{bmatrix}=\n",
    " \\begin{bmatrix}\n",
    "  x_1+y_1  \\\\\n",
    "  x_2+y_2  \\\\\n",
    "  \\vdots \\\\\n",
    "  x_n+y_n \n",
    " \\end{bmatrix}$$\n",
    " \n",
    "De forma similar funciona la operación de resta.\n",
    " \n",
    " $$ x-y =  \n",
    " \\begin{bmatrix}\n",
    "  x_1  \\\\\n",
    "  x_2  \\\\\n",
    "  \\vdots \\\\\n",
    "  x_n \n",
    " \\end{bmatrix} -\n",
    " \\begin{bmatrix}\n",
    "  y_1  \\\\\n",
    "  y_2  \\\\\n",
    "  \\vdots \\\\\n",
    "  y_n \n",
    " \\end{bmatrix}=\n",
    " \\begin{bmatrix}\n",
    "  x_1-y_1  \\\\\n",
    "  x_2-y_2  \\\\\n",
    "  \\vdots \\\\\n",
    "  x_n-y_n \n",
    " \\end{bmatrix}$$\n",
    " \n",
    " La multiplicación por escalares es una operación que toma a un número $\\lambda$, y a un vector x y produce un nuevo vector donde cada elemento del vector x es multiplicado por el número $\\lambda$.\n",
    "\n",
    "$$\\lambda x := \n",
    " \\begin{bmatrix}\n",
    "  \\lambda x_1  \\\\\n",
    "  \\lambda x_2  \\\\\n",
    "  \\vdots \\\\\n",
    "  \\lambda x_n \n",
    " \\end{bmatrix}  $$"
   ]
  },
  {
   "cell_type": "code",
   "execution_count": null,
   "metadata": {},
   "outputs": [],
   "source": []
  },
  {
   "cell_type": "code",
   "execution_count": null,
   "metadata": {},
   "outputs": [
    {
     "data": {
      "text/plain": [
       "array([ 6,  7, 10])"
      ]
     },
     "execution_count": 12,
     "metadata": {},
     "output_type": "execute_result"
    }
   ],
   "source": [
    "# sumando dos vectores numpy\n"
   ]
  },
  {
   "cell_type": "code",
   "execution_count": null,
   "metadata": {},
   "outputs": [
    {
     "data": {
      "text/plain": [
       "array([-2, -5, -4])"
      ]
     },
     "execution_count": 13,
     "metadata": {},
     "output_type": "execute_result"
    }
   ],
   "source": [
    "# restando dos vectores\n"
   ]
  },
  {
   "cell_type": "code",
   "execution_count": 2,
   "metadata": {},
   "outputs": [
    {
     "name": "stdout",
     "output_type": "stream",
     "text": [
      "[2, 3, 4, 5, 6, 2, 3, 4, 5, 6, 2, 3, 4, 5, 6, 2, 3, 4, 5, 6, 2, 3, 4, 5, 6]\n",
      "[10 15 20 25 30]\n"
     ]
    }
   ],
   "source": [
    "# multiplicando por un escalar\n",
    "\n",
    "# Lista\n",
    "lista = [2,3,4,5,6]\n",
    "print (lista*5)\n",
    "\n",
    "\n",
    "# Numpy\n",
    "x = np.array([2,3,4,5,6])\n",
    "print (x*5)"
   ]
  },
  {
   "cell_type": "code",
   "execution_count": null,
   "metadata": {},
   "outputs": [],
   "source": []
  },
  {
   "cell_type": "markdown",
   "metadata": {},
   "source": [
    "# Producto escalar o interior\n",
    "\n",
    "El producto escalar de dos vectores se define como la suma de los productos de sus elementos, suele representarse matemáticamente como < x, y > o x'y, donde x e y son dos vectores.\n",
    "\n",
    "$$ <x,y> := \\sum_{i=0}^{n}x_iy_i$$\n",
    "\n",
    "Dos vectores son ortogonales o perpendiculares cuando forman ángulo recto entre sí. Si el producto escalar de dos vectores es cero, ambos vectores son ortogonales.\n",
    "\n",
    "Adicionalmente, todo producto escalar induce una norma sobre el espacio en el que está definido, de la siguiente manera:\n",
    "\n",
    "$$ \\left \\| B \\right \\|:=\\sqrt{<x,x>} := \\left(\\sum_{i=0}^{n}x_i^2\\right)^2 $$"
   ]
  },
  {
   "cell_type": "code",
   "execution_count": 5,
   "metadata": {},
   "outputs": [],
   "source": [
    "x=np.array([2,1,3])\n",
    "y=np.array([4,6,7])"
   ]
  },
  {
   "cell_type": "code",
   "execution_count": 6,
   "metadata": {},
   "outputs": [
    {
     "data": {
      "text/plain": [
       "array([ 8,  6, 21])"
      ]
     },
     "execution_count": 6,
     "metadata": {},
     "output_type": "execute_result"
    }
   ],
   "source": [
    "x * y"
   ]
  },
  {
   "cell_type": "code",
   "execution_count": null,
   "metadata": {},
   "outputs": [],
   "source": []
  },
  {
   "cell_type": "markdown",
   "metadata": {},
   "source": [
    "# Matrices\n",
    "\n",
    "Las matrices son una forma clara y sencilla de organizar los datos para su uso en operaciones lineales.\n",
    "\n",
    "Una matriz $n × k$ es una agrupación rectangular de números con $n$ filas y $k$ columnas; se representa de la siguiente forma:\n",
    "\n",
    "$$ A= \n",
    "\\begin{bmatrix}\n",
    "  a_{11} & a_{12} & \\cdots & a_{1k} \\\\\n",
    "  a_{21} & a_{22} & \\cdots & a_{2k} \\\\\n",
    "  \\vdots & \\vdots & \\ddots &  \\vdots \\\\\n",
    "  a_{n1} & a_{n2} & \\cdots & a_{nk} \\\\\n",
    " \\end{bmatrix}$$\n",
    " \n",
    " En la matriz A, el símbolo $a_{nk}$ representa el elemento n-ésimo de la fila en la k-ésima columna. La matriz A también puede ser llamada un vector si cualquiera de n o k son iguales a 1. En el caso de n=1, A se llama un vector fila, mientras que en el caso de k=1 se denomina un vector columna.\n",
    "\n",
    "Las matrices se utilizan para múltiples aplicaciones y sirven, en particular, para representar los coeficientes de los sistemas de ecuaciones lineales o para representar transformaciones lineales dada una base. Pueden sumarse, multiplicarse y descomponerse de varias formas.\n",
    " "
   ]
  },
  {
   "cell_type": "markdown",
   "metadata": {},
   "source": [
    "# Operaciones con matrices\n",
    "\n",
    "Multiplicacion por escalares:\n",
    "\n",
    "$$ \\lambda A:=\\lambda \n",
    "\\begin{bmatrix}\n",
    "  a_{11} & a_{12} & \\cdots & a_{1k} \\\\\n",
    "  a_{21} & a_{22} & \\cdots & a_{2k} \\\\\n",
    "  \\vdots & \\vdots & \\ddots &  \\vdots \\\\\n",
    "  a_{n1} & a_{n2} & \\cdots & a_{nk} \\\\\n",
    " \\end{bmatrix} := \n",
    " \\begin{bmatrix}\n",
    "  \\lambda a_{11} & \\lambda a_{12} & \\cdots & \\lambda a_{1k} \\\\\n",
    "  \\lambda a_{21} & \\lambda a_{22} & \\cdots & \\lambda a_{2k} \\\\\n",
    "  \\vdots & \\vdots & \\ddots &  \\vdots \\\\\n",
    "  \\lambda a_{n1} & \\lambda a_{n2} & \\cdots & \\lambda a_{nk} \\\\\n",
    " \\end{bmatrix}\n",
    " $$\n",
    " \n",
    " Suma de matrices:\n",
    " \n",
    " $$ A + B := \n",
    " \\begin{bmatrix}\n",
    "  a_{11} & a_{12} & \\cdots & a_{1k} \\\\\n",
    "  a_{21} & a_{22} & \\cdots & a_{2k} \\\\\n",
    "  \\vdots & \\vdots & \\ddots &  \\vdots \\\\\n",
    "  a_{n1} & a_{n2} & \\cdots & a_{nk} \\\\\n",
    " \\end{bmatrix} +\n",
    " \\begin{bmatrix}\n",
    "  b_{11} & b_{12} & \\cdots & b_{1k} \\\\\n",
    "  b_{21} & b_{22} & \\cdots & b_{2k} \\\\\n",
    "  \\vdots & \\vdots & \\ddots & \\vdots \\\\\n",
    "  b_{n1} & b_{n2} & \\cdots & b_{nk} \\\\\n",
    " \\end{bmatrix} :=\n",
    "  \\begin{bmatrix}\n",
    "  a_{11}+b_{11} & a_{12}+b_{12} & \\cdots & a_{1k}+b_{1k} \\\\\n",
    "  a_{21}+b_{21} & a_{22}+b_{22} & \\cdots & a_{2k}+b_{2k} \\\\\n",
    "  \\vdots & \\vdots & \\ddots & \\vdots \\\\\n",
    "  a_{n1}+b_{n1} & a_{n2}+b_{n2} & \\cdots & a_{nk}+b_{nk} \\\\\n",
    " \\end{bmatrix}\n",
    " $$\n",
    " \n",
    "Resta de matrices:\n",
    "\n",
    "$$ A - B := \n",
    " \\begin{bmatrix}\n",
    "  a_{11} & a_{12} & \\cdots & a_{1k} \\\\\n",
    "  a_{21} & a_{22} & \\cdots & a_{2k} \\\\\n",
    "  \\vdots & \\vdots & \\ddots &  \\vdots \\\\\n",
    "  a_{n1} & a_{n2} & \\cdots & a_{nk} \\\\\n",
    " \\end{bmatrix} -\n",
    " \\begin{bmatrix}\n",
    "  b_{11} & b_{12} & \\cdots & b_{1k} \\\\\n",
    "  b_{21} & b_{22} & \\cdots & b_{2k} \\\\\n",
    "  \\vdots & \\vdots & \\ddots & \\vdots \\\\\n",
    "  b_{n1} & b_{n2} & \\cdots & b_{nk} \\\\\n",
    " \\end{bmatrix} :=\n",
    "  \\begin{bmatrix}\n",
    "  a_{11}-b_{11} & a_{12}-b_{12} & \\cdots & a_{1k}-b_{1k} \\\\\n",
    "  a_{21}-b_{21} & a_{22}-b_{22} & \\cdots & a_{2k}-b_{2k} \\\\\n",
    "  \\vdots & \\vdots & \\ddots & \\vdots \\\\\n",
    "  a_{n1}-b_{n1} & a_{n2}-b_{n2} & \\cdots & a_{nk}-b_{nk} \\\\\n",
    " \\end{bmatrix}\n",
    " $$\n",
    " \n",
    " Para los casos de suma y resta, hay que tener en cuenta que solo se pueden sumar o restar matrices que tengan las mismas dimensiones, es decir que si tengo una matriz A de dimensión 3x2 (3 filas y 2 columnas) solo voy a poder sumar o restar la matriz B si esta también tiene 3 filas y 2 columnas."
   ]
  },
  {
   "cell_type": "code",
   "execution_count": null,
   "metadata": {},
   "outputs": [
    {
     "name": "stdout",
     "output_type": "stream",
     "text": [
      "[[1 3 2]\n",
      " [1 0 0]\n",
      " [1 2 2]]\n",
      "[[1 0 5]\n",
      " [7 5 0]\n",
      " [2 1 1]]\n"
     ]
    }
   ],
   "source": [
    "# Ejemplo en Python\n",
    "A = \n",
    "\n",
    "B = \n",
    "\n",
    "print (A)\n",
    "print (B)"
   ]
  },
  {
   "cell_type": "code",
   "execution_count": null,
   "metadata": {},
   "outputs": [
    {
     "data": {
      "text/plain": [
       "array([[2, 3, 7],\n",
       "       [8, 5, 0],\n",
       "       [3, 3, 3]])"
      ]
     },
     "execution_count": 30,
     "metadata": {},
     "output_type": "execute_result"
    }
   ],
   "source": [
    "# suma de las matrices A y B\n"
   ]
  },
  {
   "cell_type": "code",
   "execution_count": null,
   "metadata": {},
   "outputs": [
    {
     "data": {
      "text/plain": [
       "array([[ 0,  3, -3],\n",
       "       [-6, -5,  0],\n",
       "       [-1,  1,  1]])"
      ]
     },
     "execution_count": 31,
     "metadata": {},
     "output_type": "execute_result"
    }
   ],
   "source": [
    "# resta de matrices\n"
   ]
  },
  {
   "cell_type": "code",
   "execution_count": null,
   "metadata": {},
   "outputs": [
    {
     "data": {
      "text/plain": [
       "array([[2, 6, 4],\n",
       "       [2, 0, 0],\n",
       "       [2, 4, 4]])"
      ]
     },
     "execution_count": 32,
     "metadata": {},
     "output_type": "execute_result"
    }
   ],
   "source": [
    "# multiplicando matrices por escalares\n"
   ]
  },
  {
   "cell_type": "code",
   "execution_count": null,
   "metadata": {},
   "outputs": [
    {
     "data": {
      "text/plain": [
       "array([[ 1,  0, 10],\n",
       "       [ 7,  0,  0],\n",
       "       [ 2,  2,  2]])"
      ]
     },
     "execution_count": 33,
     "metadata": {},
     "output_type": "execute_result"
    }
   ],
   "source": [
    "# Multiplicación elemento a elemento (producto Hadamard) entre las matrices A y B, no la multiplicación matricial estándar.\n",
    "A * B"
   ]
  },
  {
   "cell_type": "code",
   "execution_count": null,
   "metadata": {},
   "outputs": [
    {
     "data": {
      "text/plain": [
       "array([[ 6, 13, 12],\n",
       "       [12, 21, 14],\n",
       "       [ 4,  8,  6]])"
      ]
     },
     "execution_count": 34,
     "metadata": {},
     "output_type": "execute_result"
    }
   ],
   "source": [
    "# multiplicación matricial estándar.\n"
   ]
  },
  {
   "cell_type": "code",
   "execution_count": null,
   "metadata": {},
   "outputs": [
    {
     "data": {
      "text/plain": [
       "array([[26, 17,  7],\n",
       "       [ 1,  0,  5],\n",
       "       [19, 12,  7]])"
      ]
     },
     "execution_count": 35,
     "metadata": {},
     "output_type": "execute_result"
    }
   ],
   "source": []
  },
  {
   "cell_type": "code",
   "execution_count": null,
   "metadata": {},
   "outputs": [],
   "source": []
  },
  {
   "cell_type": "code",
   "execution_count": 8,
   "metadata": {},
   "outputs": [],
   "source": [
    "# ver la dimension de una matriz\n"
   ]
  },
  {
   "cell_type": "code",
   "execution_count": 9,
   "metadata": {},
   "outputs": [],
   "source": [
    "# ver cantidad de elementos de una matriz\n"
   ]
  },
  {
   "cell_type": "code",
   "execution_count": null,
   "metadata": {},
   "outputs": [],
   "source": []
  },
  {
   "cell_type": "markdown",
   "metadata": {},
   "source": [
    "# Multiplicacion o Producto de matrices\n",
    "\n",
    "La regla para la multiplicación de matrices generaliza la idea del producto interior que vimos con los vectores; y esta diseñada para facilitar las operaciones lineales básicas. Cuando multiplicamos matrices, el número de columnas de la primera matriz debe ser igual al número de filas de la segunda matriz; y el resultado de esta multiplicación va a tener el mismo número de filas que la primer matriz y el número de la columnas de la segunda matriz. Es decir, que si yo tengo una matriz A de dimensión 3x4 y la multiplico por una matriz B de dimensión 4x2, el resultado va a ser una matriz C de dimensión 3x2.\n",
    "\n",
    "Algo a tener en cuenta a la hora de multiplicar matrices es que la propiedad connmutativa no se cumple. AxB no es lo mismo que BxA."
   ]
  },
  {
   "cell_type": "markdown",
   "metadata": {},
   "source": []
  },
  {
   "cell_type": "code",
   "execution_count": 10,
   "metadata": {},
   "outputs": [
    {
     "data": {
      "text/plain": [
       "(array([1, 2, 3, 4, 5, 6, 7, 8, 9]), (9,))"
      ]
     },
     "execution_count": 10,
     "metadata": {},
     "output_type": "execute_result"
    }
   ],
   "source": [
    "A = np.arange(1, 10)\n",
    "A,A.shape"
   ]
  },
  {
   "cell_type": "code",
   "execution_count": 11,
   "metadata": {},
   "outputs": [
    {
     "name": "stdout",
     "output_type": "stream",
     "text": [
      "[[1 2 3]\n",
      " [4 5 6]\n",
      " [7 8 9]]\n"
     ]
    },
    {
     "data": {
      "text/plain": [
       "(3, 3)"
      ]
     },
     "execution_count": 11,
     "metadata": {},
     "output_type": "execute_result"
    }
   ],
   "source": [
    "A = np.arange(1, 10).reshape(3, 3)\n",
    "print (A)\n",
    "A.shape"
   ]
  },
  {
   "cell_type": "code",
   "execution_count": 12,
   "metadata": {},
   "outputs": [
    {
     "data": {
      "text/plain": [
       "array([[ 1,  2,  3,  4],\n",
       "       [ 5,  6,  7,  8],\n",
       "       [ 9, 10, 11, 12]])"
      ]
     },
     "execution_count": 12,
     "metadata": {},
     "output_type": "execute_result"
    }
   ],
   "source": [
    "# Ejemplo multiplicación de matrices\n",
    "A = np.arange(1, 13).reshape(3, 4) #matriz de dimension 3x4\n",
    "A"
   ]
  },
  {
   "cell_type": "code",
   "execution_count": 13,
   "metadata": {},
   "outputs": [
    {
     "data": {
      "text/plain": [
       "array([[0, 1],\n",
       "       [2, 3],\n",
       "       [4, 5],\n",
       "       [6, 7]])"
      ]
     },
     "execution_count": 13,
     "metadata": {},
     "output_type": "execute_result"
    }
   ],
   "source": [
    "B = np.arange(8).reshape(4,2) #matriz de dimension 4x2\n",
    "B"
   ]
  },
  {
   "cell_type": "code",
   "execution_count": 14,
   "metadata": {},
   "outputs": [
    {
     "data": {
      "text/plain": [
       "((3, 4), (4, 2))"
      ]
     },
     "execution_count": 14,
     "metadata": {},
     "output_type": "execute_result"
    }
   ],
   "source": [
    "A.shape,B.shape"
   ]
  },
  {
   "cell_type": "code",
   "execution_count": 15,
   "metadata": {},
   "outputs": [
    {
     "data": {
      "text/plain": [
       "array([[ 40,  50],\n",
       "       [ 88, 114],\n",
       "       [136, 178]])"
      ]
     },
     "execution_count": 15,
     "metadata": {},
     "output_type": "execute_result"
    }
   ],
   "source": [
    "# Multiplicando A x B\n",
    "A.dot(B) #resulta en una matriz de dimension 3x2"
   ]
  },
  {
   "cell_type": "code",
   "execution_count": 16,
   "metadata": {},
   "outputs": [
    {
     "data": {
      "text/plain": [
       "array([[ 40,  50],\n",
       "       [ 88, 114],\n",
       "       [136, 178]])"
      ]
     },
     "execution_count": 16,
     "metadata": {},
     "output_type": "execute_result"
    }
   ],
   "source": [
    "A@B"
   ]
  },
  {
   "cell_type": "code",
   "execution_count": null,
   "metadata": {},
   "outputs": [],
   "source": []
  },
  {
   "cell_type": "code",
   "execution_count": 17,
   "metadata": {},
   "outputs": [
    {
     "ename": "ValueError",
     "evalue": "shapes (4,2) and (3,4) not aligned: 2 (dim 1) != 3 (dim 0)",
     "output_type": "error",
     "traceback": [
      "\u001b[0;31m---------------------------------------------------------------------------\u001b[0m",
      "\u001b[0;31mValueError\u001b[0m                                Traceback (most recent call last)",
      "Cell \u001b[0;32mIn[17], line 2\u001b[0m\n\u001b[1;32m      1\u001b[0m \u001b[38;5;66;03m# Multiplicando B x A 4x2 x 3x4\u001b[39;00m\n\u001b[0;32m----> 2\u001b[0m \u001b[43mB\u001b[49m\u001b[38;5;241;43m.\u001b[39;49m\u001b[43mdot\u001b[49m\u001b[43m(\u001b[49m\u001b[43mA\u001b[49m\u001b[43m)\u001b[49m\n",
      "\u001b[0;31mValueError\u001b[0m: shapes (4,2) and (3,4) not aligned: 2 (dim 1) != 3 (dim 0)"
     ]
    }
   ],
   "source": [
    "# Multiplicando B x A 4x2 x 3x4\n",
    "B.dot(A)"
   ]
  },
  {
   "cell_type": "markdown",
   "metadata": {},
   "source": [
    "# La matriz identidad, la matriz inversa, la matriz transpuesta y el determinante\n"
   ]
  },
  {
   "cell_type": "code",
   "execution_count": null,
   "metadata": {},
   "outputs": [
    {
     "data": {
      "text/plain": [
       "array([[1., 0.],\n",
       "       [0., 1.]])"
      ]
     },
     "execution_count": 20,
     "metadata": {},
     "output_type": "execute_result"
    }
   ],
   "source": [
    "# Creando una matriz identidad de 2x2\n",
    "I = np.eye()\n",
    "I"
   ]
  },
  {
   "cell_type": "code",
   "execution_count": null,
   "metadata": {},
   "outputs": [],
   "source": [
    "np.eye?"
   ]
  },
  {
   "cell_type": "code",
   "execution_count": null,
   "metadata": {},
   "outputs": [
    {
     "data": {
      "text/plain": [
       "array([[1., 0.],\n",
       "       [0., 1.],\n",
       "       [0., 0.]])"
      ]
     },
     "execution_count": 161,
     "metadata": {},
     "output_type": "execute_result"
    }
   ],
   "source": [
    "I2 = np.eye()\n",
    "I2"
   ]
  },
  {
   "cell_type": "code",
   "execution_count": 21,
   "metadata": {},
   "outputs": [
    {
     "data": {
      "text/plain": [
       "array([[4, 7],\n",
       "       [2, 6]])"
      ]
     },
     "execution_count": 21,
     "metadata": {},
     "output_type": "execute_result"
    }
   ],
   "source": [
    "# Multiplicar una matriz por la identidad nos da la misma matriz\n",
    "A = np.array([[4, 7],\n",
    "              [2, 6]])\n",
    "A"
   ]
  },
  {
   "cell_type": "code",
   "execution_count": 22,
   "metadata": {},
   "outputs": [
    {
     "data": {
      "text/plain": [
       "(array([[4., 7.],\n",
       "        [2., 6.]]),\n",
       " array([[4., 7.],\n",
       "        [2., 6.]]))"
      ]
     },
     "execution_count": 22,
     "metadata": {},
     "output_type": "execute_result"
    }
   ],
   "source": [
    "A@I,I@A"
   ]
  },
  {
   "cell_type": "code",
   "execution_count": 23,
   "metadata": {},
   "outputs": [
    {
     "data": {
      "text/plain": [
       "array([[4., 7.],\n",
       "       [2., 6.]])"
      ]
     },
     "execution_count": 23,
     "metadata": {},
     "output_type": "execute_result"
    }
   ],
   "source": [
    "A.dot(I) # AxI = A"
   ]
  },
  {
   "cell_type": "code",
   "execution_count": 24,
   "metadata": {},
   "outputs": [
    {
     "data": {
      "text/plain": [
       "np.float64(10.000000000000002)"
      ]
     },
     "execution_count": 24,
     "metadata": {},
     "output_type": "execute_result"
    }
   ],
   "source": [
    "# Calculando el determinante de la matriz A\n",
    "np.linalg.det(A)"
   ]
  },
  {
   "cell_type": "code",
   "execution_count": null,
   "metadata": {
    "scrolled": true
   },
   "outputs": [
    {
     "data": {
      "text/plain": [
       "array([[ 0.6, -0.7],\n",
       "       [-0.2,  0.4]])"
      ]
     },
     "execution_count": 25,
     "metadata": {},
     "output_type": "execute_result"
    }
   ],
   "source": [
    "# Calculando la inversa de A.\n",
    "A_inv = \n",
    "A_inv"
   ]
  },
  {
   "cell_type": "code",
   "execution_count": null,
   "metadata": {},
   "outputs": [],
   "source": []
  },
  {
   "cell_type": "code",
   "execution_count": null,
   "metadata": {},
   "outputs": [
    {
     "data": {
      "text/plain": [
       "array([[ 1.00000000e+00,  0.00000000e+00],\n",
       "       [-2.22044605e-16,  1.00000000e+00]])"
      ]
     },
     "execution_count": 173,
     "metadata": {},
     "output_type": "execute_result"
    }
   ],
   "source": [
    "# A x A_inv nos da como resultado I.\n",
    "A.dot(A_inv)"
   ]
  },
  {
   "cell_type": "code",
   "execution_count": 26,
   "metadata": {},
   "outputs": [
    {
     "data": {
      "text/plain": [
       "array([[0, 1],\n",
       "       [2, 3],\n",
       "       [4, 5]])"
      ]
     },
     "execution_count": 26,
     "metadata": {},
     "output_type": "execute_result"
    }
   ],
   "source": [
    "A = np.arange(6).reshape(3, 2)\n",
    "A"
   ]
  },
  {
   "cell_type": "code",
   "execution_count": 28,
   "metadata": {},
   "outputs": [
    {
     "data": {
      "text/plain": [
       "array([[0, 2, 4],\n",
       "       [1, 3, 5]])"
      ]
     },
     "execution_count": 28,
     "metadata": {},
     "output_type": "execute_result"
    }
   ],
   "source": [
    "# Transpuesta de una matriz\n",
    "np.transpose(A)"
   ]
  },
  {
   "cell_type": "code",
   "execution_count": null,
   "metadata": {},
   "outputs": [],
   "source": []
  },
  {
   "cell_type": "code",
   "execution_count": null,
   "metadata": {},
   "outputs": [],
   "source": []
  },
  {
   "cell_type": "markdown",
   "metadata": {},
   "source": [
    "# Sistemas de ecuaciones lineales\n",
    "\n",
    "Una de las principales aplicaciones del Álgebra lineal consiste en resolver problemas de sistemas de ecuaciones lineales.\n",
    "\n",
    "Una ecuación lineal es una ecuación que solo involucra sumas y restas de una variable o mas variables a la primera potencia. Es la ecuación de la línea recta.Cuando nuestro problema esta representado por más de una ecuación lineal, hablamos de un sistema de ecuaciones lineales. Por ejemplo, podríamos tener un sistema de dos ecuaciones con dos incógnitas como el siguiente:\n",
    "\n",
    "$$  \\begin{array}{c} x-2y=1 \\\\ 3x+2y=11 \\end{array}  $$\n",
    "\n",
    "$$ y = \\frac{(1-x)}{-2}$$\n",
    "La idea es encontrar el valor de $x$ e $y$ que resuelva ambas ecuaciones. Una forma en que podemos hacer esto, puede ser representando graficamente ambas rectas y buscar los puntos en que las rectas se cruzan."
   ]
  },
  {
   "cell_type": "code",
   "execution_count": 29,
   "metadata": {},
   "outputs": [
    {
     "data": {
      "text/plain": [
       "(np.float64(-0.25), np.float64(5.25), np.float64(0.0), np.float64(5.875))"
      ]
     },
     "execution_count": 29,
     "metadata": {},
     "output_type": "execute_result"
    },
    {
     "data": {
      "image/png": "[encoded data removed]",
      "text/plain": [
       "<Figure size 640x480 with 1 Axes>"
      ]
     },
     "metadata": {},
     "output_type": "display_data"
    }
   ],
   "source": [
    "%matplotlib inline\n",
    "import matplotlib.pyplot as plt\n",
    "#plt.plot?\n",
    "# graficando el sistema de ecuaciones.\n",
    "x_vals = np.linspace(0, 5, 50) # crea 50 valores entre 0 y 5\n",
    "plt.plot(x_vals, (1 - x_vals)/-2) # grafica x - 2y = 1\n",
    "plt.plot(x_vals, (11 - (3*x_vals))/2) # grafica 3x + 2y = 11\n",
    "plt.axis(ymin = 0)"
   ]
  },
  {
   "cell_type": "markdown",
   "metadata": {},
   "source": [
    "Luego de haber graficado las funciones, podemos ver que ambas rectas se cruzan en el punto (3, 1), es decir que la solución de nuestro sistema sería x=3x=3 e y=1y=1. En este caso, al tratarse de un sistema simple y con solo dos incógnitas, la solución gráfica puede ser de utilidad, pero para sistemas más complicados se necesita una solución numérica, es aquí donde entran a jugar las matrices."
   ]
  },
  {
   "cell_type": "code",
   "execution_count": 30,
   "metadata": {
    "scrolled": true
   },
   "outputs": [
    {
     "data": {
      "text/plain": [
       "[<matplotlib.lines.Line2D at 0x1313017c0>]"
      ]
     },
     "execution_count": 30,
     "metadata": {},
     "output_type": "execute_result"
    },
    {
     "data": {
      "image/png": "[encoded data removed]",
      "text/plain": [
       "<Figure size 640x480 with 1 Axes>"
      ]
     },
     "metadata": {},
     "output_type": "display_data"
    }
   ],
   "source": [
    "fix, ax = plt.subplots()\n",
    "for spine in [\"left\", \"bottom\"]:\n",
    "    ax.spines[spine].set_position(\"zero\")\n",
    "\n",
    "for spine in [\"right\", \"top\"]:\n",
    "    ax.spines[spine].set_color(\"none\")\n",
    "\n",
    "ax.set_xlim(-5, 5)\n",
    "ax.set_ylim(-5, 5)\n",
    "ax.grid()\n",
    "\n",
    "x_vals = np.linspace(0, 5, 50) # crea 50 valores entre 0 y 5\n",
    "ax.plot(x_vals, (1 - x_vals)/-2) # grafica x - 2y = 1\n",
    "ax.plot(x_vals, (11 - (3*x_vals))/2) # grafica 3x + 2y = 11"
   ]
  },
  {
   "cell_type": "markdown",
   "metadata": {},
   "source": [
    "Luego de haber graficado las funciones, podemos ver que ambas rectas se cruzan en el punto (3, 1), es decir que la solución de nuestro sistema sería x=3x=3 e y=1y=1. En este caso, al tratarse de un sistema simple y con solo dos incógnitas, la solución gráfica puede ser de utilidad, pero para sistemas más complicados se necesita una solución numérica, es aquí donde entran a jugar las matrices.\n",
    "\n",
    "Ese mismo sistema se podría representar como una ecuación matricial de la siguiente forma:\n",
    "\n",
    "\n",
    "$$\n",
    "\\begin{bmatrix}\n",
    "  1 & -2  \\\\\n",
    "  3 & 2\n",
    " \\end{bmatrix}\n",
    " \\begin{bmatrix}\n",
    "  x   \\\\\n",
    "  y \n",
    " \\end{bmatrix} =\n",
    " \\begin{bmatrix}\n",
    "  1   \\\\\n",
    "  11 \n",
    " \\end{bmatrix}\n",
    "$$\n",
    "\n",
    "Lo que es lo mismo que decir que la matriz A por la matriz xx nos da como resultado el vector b.\n",
    "\n",
    "$$ Ax=b$$\n",
    "\n",
    "En este caso, ya sabemos el resultado de xx, por lo que podemos comprobar que nuestra solución es correcta realizando la multiplicación de matrices."
   ]
  },
  {
   "cell_type": "code",
   "execution_count": null,
   "metadata": {},
   "outputs": [
    {
     "data": {
      "text/plain": [
       "array([[ 1.],\n",
       "       [11.]])"
      ]
     },
     "execution_count": 31,
     "metadata": {},
     "output_type": "execute_result"
    }
   ],
   "source": [
    "\n",
    "# Comprobando la solucion con la multiplicación de matrices.\n",
    "A = \n",
    "x = \n",
    "\n",
    "#A.dot(x)\n",
    "b = \n",
    "b"
   ]
  },
  {
   "cell_type": "code",
   "execution_count": null,
   "metadata": {},
   "outputs": [],
   "source": []
  },
  {
   "cell_type": "code",
   "execution_count": null,
   "metadata": {},
   "outputs": [
    {
     "data": {
      "text/plain": [
       "array([[3.],\n",
       "       [1.]])"
      ]
     },
     "execution_count": 25,
     "metadata": {},
     "output_type": "execute_result"
    }
   ],
   "source": []
  },
  {
   "cell_type": "markdown",
   "metadata": {},
   "source": [
    "## Para resolver en forma numérica los sistema de ecuaciones, existen varios métodos:\n",
    "\n",
    "**El método de sustitución**: El cual consiste en despejar en una de las ecuaciones cualquier incógnita, preferiblemente la que tenga menor coeficiente y a continuación sustituirla en otra ecuación por su valor.\n",
    "\n",
    "**El método de igualacion**: El cual se puede entender como un caso particular del método de sustitución en el que se despeja la misma incógnita en dos ecuaciones y a continuación se igualan entre sí la parte derecha de ambas ecuaciones.\n",
    "\n",
    "**El método de reduccion:** El procedimiento de este método consiste en transformar una de las ecuaciones (generalmente, mediante productos), de manera que obtengamos dos ecuaciones en la que una misma incógnita aparezca con el mismo coeficiente y distinto signo. A continuación, se suman ambas ecuaciones produciéndose así la reducción o cancelación de dicha incógnita, obteniendo una ecuación con una sola incógnita, donde el método de resolución es simple.\n",
    "\n",
    "**El método gráfico:** Que consiste en construir el gráfica de cada una de las ecuaciones del sistema. Este método (manualmente aplicado) solo resulta eficiente en el plano cartesiano (solo dos incógnitas).\n",
    "\n",
    "**El método de Gauss:** El método de eliminación de Gauss o simplemente método de Gauss consiste en convertir un sistema lineal de n ecuaciones con n incógnitas, en uno escalonado, en el que la primera ecuación tiene n incógnitas, la segunda ecuación tiene n - 1 incógnitas, ..., hasta la última ecuación, que tiene 1 incógnita. De esta forma, será fácil partir de la última ecuación e ir subiendo para calcular el valor de las demás incógnitas.\n",
    "\n",
    "**El método de Eliminación de Gauss-Jordan:** El cual es una variante del método anterior, y consistente en triangular la matriz aumentada del sistema mediante transformaciones elementales, hasta obtener ecuaciones de una sola incógnita.\n",
    "\n",
    "**El método de Cramer:** El cual consiste en aplicar la regla de Cramer para resolver el sistema. Este método solo se puede aplicar cuando la matriz de coeficientes del sistema es cuadrada y de determinante no nulo.\n",
    "\n",
    "La idea no es explicar cada uno de estos métodos, sino saber que existen y que Python nos hacer la vida mucho más fácil, ya que para resolver un sistema de ecuaciones simplemente debemos llamar a la función solve().\n",
    "\n",
    "Por ejemplo, para resolver este sistema de 3 ecuaciones y 3 incógnitas.\n",
    "\n",
    "$$  \\begin{array}{c} x+2y+3z=6 \\\\ 2x+5y+2z=4\\\\6x-3y+z=2 \\end{array}  $$"
   ]
  },
  {
   "cell_type": "code",
   "execution_count": null,
   "metadata": {},
   "outputs": [
    {
     "data": {
      "text/plain": [
       "array([[ 1,  2,  3],\n",
       "       [ 2,  5,  2],\n",
       "       [ 6, -3,  1]])"
      ]
     },
     "execution_count": 78,
     "metadata": {},
     "output_type": "execute_result"
    }
   ],
   "source": [
    "\n",
    "# Creando matriz de coeficientes\n",
    "A = np.array([[1, 2, 3],\n",
    "              [2, 5, 2],\n",
    "              [6, -3, 1]])\n",
    "A"
   ]
  },
  {
   "cell_type": "code",
   "execution_count": null,
   "metadata": {},
   "outputs": [
    {
     "data": {
      "text/plain": [
       "array([6, 4, 2])"
      ]
     },
     "execution_count": 79,
     "metadata": {},
     "output_type": "execute_result"
    }
   ],
   "source": [
    "# Creando matriz de resultados\n",
    "b = np.array([6, 4, 2])\n",
    "b"
   ]
  },
  {
   "cell_type": "code",
   "execution_count": null,
   "metadata": {},
   "outputs": [],
   "source": [
    "np.linalg.solve?"
   ]
  },
  {
   "cell_type": "code",
   "execution_count": null,
   "metadata": {},
   "outputs": [
    {
     "data": {
      "text/plain": [
       "array([0., 0., 2.])"
      ]
     },
     "execution_count": 80,
     "metadata": {},
     "output_type": "execute_result"
    }
   ],
   "source": [
    "# Resolviendo sistema de ecuaciones\n",
    "x = (A, b)\n",
    "x"
   ]
  },
  {
   "cell_type": "code",
   "execution_count": null,
   "metadata": {},
   "outputs": [
    {
     "data": {
      "text/plain": [
       "array([ True,  True,  True])"
      ]
     },
     "execution_count": 81,
     "metadata": {},
     "output_type": "execute_result"
    }
   ],
   "source": [
    "\n",
    "# Comprobando la solucion\n",
    "A.dot(x) == b"
   ]
  },
  {
   "cell_type": "markdown",
   "metadata": {},
   "source": [
    "# Vectorizing functions (vectorize)\n",
    "\n",
    "One of the features that NumPy provides is a class vectorize to convert an ordinary Python function which accepts scalars and returns scalars into a “vectorized-function” with the same broadcasting rules as other Numpy functions (i.e. the Universal functions, or ufuncs). For example, suppose you have a Python function named addsubtract defined as:"
   ]
  },
  {
   "cell_type": "code",
   "execution_count": 41,
   "metadata": {},
   "outputs": [],
   "source": [
    "def addsubtract(a,b):\n",
    "    if a > b:\n",
    "        print(a)\n",
    "        return a - b\n",
    "    else:\n",
    "        return a + b"
   ]
  },
  {
   "cell_type": "code",
   "execution_count": 42,
   "metadata": {},
   "outputs": [
    {
     "data": {
      "text/plain": [
       "[0, 3, 6, 9, 1, 3, 5, 7]"
      ]
     },
     "execution_count": 42,
     "metadata": {},
     "output_type": "execute_result"
    }
   ],
   "source": [
    "addsubtract([0,3,6,9],[1,3,5,7])"
   ]
  },
  {
   "cell_type": "code",
   "execution_count": 43,
   "metadata": {},
   "outputs": [
    {
     "data": {
      "text/plain": [
       "True"
      ]
     },
     "execution_count": 43,
     "metadata": {},
     "output_type": "execute_result"
    }
   ],
   "source": [
    "[0,13,5,7] > [0,10,6,9]"
   ]
  },
  {
   "cell_type": "code",
   "execution_count": 44,
   "metadata": {},
   "outputs": [
    {
     "ename": "ValueError",
     "evalue": "The truth value of an array with more than one element is ambiguous. Use a.any() or a.all()",
     "output_type": "error",
     "traceback": [
      "\u001b[0;31m---------------------------------------------------------------------------\u001b[0m",
      "\u001b[0;31mValueError\u001b[0m                                Traceback (most recent call last)",
      "Cell \u001b[0;32mIn[44], line 3\u001b[0m\n\u001b[1;32m      1\u001b[0m x\u001b[38;5;241m=\u001b[39mnp\u001b[38;5;241m.\u001b[39marray([\u001b[38;5;241m0\u001b[39m,\u001b[38;5;241m3\u001b[39m,\u001b[38;5;241m6\u001b[39m,\u001b[38;5;241m9\u001b[39m])\n\u001b[1;32m      2\u001b[0m y\u001b[38;5;241m=\u001b[39mnp\u001b[38;5;241m.\u001b[39marray([\u001b[38;5;241m1\u001b[39m,\u001b[38;5;241m3\u001b[39m,\u001b[38;5;241m5\u001b[39m,\u001b[38;5;241m7\u001b[39m])\n\u001b[0;32m----> 3\u001b[0m \u001b[43maddsubtract\u001b[49m\u001b[43m(\u001b[49m\u001b[43mx\u001b[49m\u001b[43m,\u001b[49m\u001b[43my\u001b[49m\u001b[43m)\u001b[49m\n",
      "Cell \u001b[0;32mIn[41], line 2\u001b[0m, in \u001b[0;36maddsubtract\u001b[0;34m(a, b)\u001b[0m\n\u001b[1;32m      1\u001b[0m \u001b[38;5;28;01mdef\u001b[39;00m\u001b[38;5;250m \u001b[39m\u001b[38;5;21maddsubtract\u001b[39m(a,b):\n\u001b[0;32m----> 2\u001b[0m     \u001b[38;5;28;01mif\u001b[39;00m a \u001b[38;5;241m>\u001b[39m b:\n\u001b[1;32m      3\u001b[0m         \u001b[38;5;28mprint\u001b[39m(a)\n\u001b[1;32m      4\u001b[0m         \u001b[38;5;28;01mreturn\u001b[39;00m a \u001b[38;5;241m-\u001b[39m b\n",
      "\u001b[0;31mValueError\u001b[0m: The truth value of an array with more than one element is ambiguous. Use a.any() or a.all()"
     ]
    }
   ],
   "source": [
    "x=np.array([0,3,6,9])\n",
    "y=np.array([1,3,5,7])\n",
    "addsubtract(x,y)"
   ]
  },
  {
   "cell_type": "code",
   "execution_count": 45,
   "metadata": {},
   "outputs": [
    {
     "name": "stdout",
     "output_type": "stream",
     "text": [
      "6\n",
      "9\n",
      "[1 6 1 2]\n",
      "6\n",
      "9\n",
      "[1 6 1 2]\n"
     ]
    }
   ],
   "source": [
    "vec_addsubtract = np.vectorize(addsubtract)\n",
    "print (vec_addsubtract([0,3,6,9],[1,3,5,7]))\n",
    "print (vec_addsubtract(x,y))"
   ]
  },
  {
   "cell_type": "code",
   "execution_count": 46,
   "metadata": {},
   "outputs": [
    {
     "data": {
      "text/plain": [
       "[1, 4, 9, 16, 25]"
      ]
     },
     "execution_count": 46,
     "metadata": {},
     "output_type": "execute_result"
    }
   ],
   "source": [
    "items = [1, 2, 3, 4, 5]\n",
    "squared = list(map(lambda x: x**2, items))\n",
    "squared"
   ]
  },
  {
   "cell_type": "code",
   "execution_count": 38,
   "metadata": {},
   "outputs": [
    {
     "data": {
      "text/plain": [
       "[1, 4, 9, 16, 25]"
      ]
     },
     "execution_count": 38,
     "metadata": {},
     "output_type": "execute_result"
    }
   ],
   "source": [
    "[x**2 for x in items]"
   ]
  },
  {
   "cell_type": "code",
   "execution_count": 47,
   "metadata": {},
   "outputs": [
    {
     "name": "stdout",
     "output_type": "stream",
     "text": [
      "6\n",
      "9\n"
     ]
    },
    {
     "data": {
      "text/plain": [
       "[1, 6, 1, 2]"
      ]
     },
     "execution_count": 47,
     "metadata": {},
     "output_type": "execute_result"
    }
   ],
   "source": [
    "a =list(map(addsubtract,[0,3,6,9],[1,3,5,7]) )\n",
    "a"
   ]
  },
  {
   "cell_type": "code",
   "execution_count": 50,
   "metadata": {},
   "outputs": [
    {
     "data": {
      "text/plain": [
       "[1, 18, 61, 130]"
      ]
     },
     "execution_count": 50,
     "metadata": {},
     "output_type": "execute_result"
    }
   ],
   "source": [
    "x1=[0,3,6,9]\n",
    "y1=[1,3,5,7]\n",
    "list(map(lambda x,y:x**2+y**2,x1,y1))"
   ]
  },
  {
   "cell_type": "code",
   "execution_count": 49,
   "metadata": {},
   "outputs": [
    {
     "data": {
      "text/plain": [
       "[np.int64(1), np.int64(6), np.int64(11), np.int64(16)]"
      ]
     },
     "execution_count": 49,
     "metadata": {},
     "output_type": "execute_result"
    }
   ],
   "source": [
    "[ xi+yi for xi,yi in zip(x,y)] #list Comprehensions "
   ]
  },
  {
   "cell_type": "code",
   "execution_count": null,
   "metadata": {},
   "outputs": [],
   "source": []
  },
  {
   "cell_type": "markdown",
   "metadata": {},
   "source": [
    "# Ejercicios\n",
    "\n",
    "La señora Mercedes fue al mercado y le ofrecieron las siguientes promociones: un paquete de **3 jabones, 2 cremas dentales y 4 cepillos de dientes, por \\$206**; un segundo paquete de \n",
    "**5 jabones, 3 cremas dentales y 2 cepillos, por \\$210**; un tercer paquete contenía **6 unidades de cada uno de los anteriores artículos, por \\$412.** ¿Cuál es el costo de cada artículo?"
   ]
  },
  {
   "cell_type": "markdown",
   "metadata": {},
   "source": [
    "La señora Juana compra **3 kg de fríjol, 2 kg de sal y 1 kg de arroz por \\$130**. La Señora  Petra compra **2 kg de fríjol, 1 kg de sal y 1 kg de arroz pagando un total de \\$90**. Otra señora compra **1 kg de fríjol, 1 kg de sal y 1 kg de arroz pagando un total de \\$60**. Si las tres señoras compraron en la misma tienda, ¿cuál es el precio por kg de cada producto?"
   ]
  },
  {
   "cell_type": "code",
   "execution_count": null,
   "metadata": {},
   "outputs": [],
   "source": []
  },
  {
   "cell_type": "code",
   "execution_count": null,
   "metadata": {},
   "outputs": [],
   "source": []
  },
  {
   "cell_type": "markdown",
   "metadata": {},
   "source": [
    "# Introducción a Imágenes\n",
    "\n",
    "En álgebra lineal y computación, una imagen digital puede representarse como una matriz, donde cada elemento corresponde a la intensidad de un píxel. \n",
    "\n",
    "Las operaciones matriciales permiten manipular, transformar y analizar imágenes de manera eficiente. \n",
    "\n",
    "Por ejemplo, una imagen en escala de grises se representa como una matriz bidimensional, mientras que una imagen en color utiliza tres matrices (una para cada canal: rojo, verde y azul).\n",
    "\n",
    "Estas representaciones permiten aplicar técnicas como filtrado, transformaciones geométricas y compresión, utilizando las herramientas matemáticas vistas previamente.\n",
    "\n"
   ]
  },
  {
   "cell_type": "code",
   "execution_count": 51,
   "metadata": {},
   "outputs": [],
   "source": [
    "import matplotlib.pyplot as plt"
   ]
  },
  {
   "cell_type": "code",
   "execution_count": null,
   "metadata": {},
   "outputs": [],
   "source": []
  },
  {
   "cell_type": "code",
   "execution_count": null,
   "metadata": {},
   "outputs": [
    {
     "data": {
      "text/plain": [
       "<matplotlib.image.AxesImage at 0x1311b41a0>"
      ]
     },
     "execution_count": 52,
     "metadata": {},
     "output_type": "execute_result"
    },
    {
     "data": {
      "image/png": "[encoded data removed]",
      "text/plain": [
       "<Figure size 640x480 with 1 Axes>"
      ]
     },
     "metadata": {},
     "output_type": "display_data"
    }
   ],
   "source": [
    "datos = np.array(  [[0, 1, 0,0],\n",
    "                    [0, 1, 0,0],\n",
    "                    [0, 1, 0,0],\n",
    "                    [0, 1, 1,0] ])\n",
    "\n",
    "plt.imshow(datos, cmap='binary_r')\n",
    "\n",
    "\n"
   ]
  },
  {
   "cell_type": "code",
   "execution_count": 53,
   "metadata": {},
   "outputs": [
    {
     "data": {
      "text/plain": [
       "<matplotlib.image.AxesImage at 0x131294860>"
      ]
     },
     "execution_count": 53,
     "metadata": {},
     "output_type": "execute_result"
    },
    {
     "data": {
      "image/png": "[encoded data removed]",
      "text/plain": [
       "<Figure size 640x480 with 1 Axes>"
      ]
     },
     "metadata": {},
     "output_type": "display_data"
    }
   ],
   "source": [
    "plt.imshow(datos, cmap='binary')"
   ]
  },
  {
   "cell_type": "code",
   "execution_count": null,
   "metadata": {},
   "outputs": [],
   "source": []
  }
 ],
 "metadata": {
  "hide_input": false,
  "kernelspec": {
   "display_name": "UP2025",
   "language": "python",
   "name": "python3"
  },
  "language_info": {
   "codemirror_mode": {
    "name": "ipython",
    "version": 3
   },
   "file_extension": ".py",
   "mimetype": "text/x-python",
   "name": "python",
   "nbconvert_exporter": "python",
   "pygments_lexer": "ipython3",
   "version": "3.12.4"
  },
  "toc": {
   "base_numbering": 1,
   "nav_menu": {},
   "number_sections": true,
   "sideBar": true,
   "skip_h1_title": false,
   "title_cell": "Table of Contents",
   "title_sidebar": "Contents",
   "toc_cell": false,
   "toc_position": {},
   "toc_section_display": true,
   "toc_window_display": false
  },
  "varInspector": {
   "cols": {
    "lenName": 16,
    "lenType": 16,
    "lenVar": 40
   },
   "kernels_config": {
    "python": {
     "delete_cmd_postfix": "",
     "delete_cmd_prefix": "del ",
     "library": "var_list.py",
     "varRefreshCmd": "print(var_dic_list())"
    },
    "r": {
     "delete_cmd_postfix": ") ",
     "delete_cmd_prefix": "rm(",
     "library": "var_list.r",
     "varRefreshCmd": "cat(var_dic_list()) "
    }
   },
   "types_to_exclude": [
    "module",
    "function",
    "builtin_function_or_method",
    "instance",
    "_Feature"
   ],
   "window_display": false
  }
 },
 "nbformat": 4,
 "nbformat_minor": 1
}
